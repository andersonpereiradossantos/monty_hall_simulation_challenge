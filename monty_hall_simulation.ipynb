{
 "cells": [
  {
   "cell_type": "markdown",
   "id": "c884c7d2-c6e2-4619-99e9-d21413b9a288",
   "metadata": {},
   "source": [
    "## Simulação do Problema de Monty Hall\n",
    "\n",
    "##### Anderson Pereira dos Santos - 25/05/2024<br>[Github](https://github.com/andersonpereiradossantos) • [Linkedin](https://www.linkedin.com/in/andersonpereirasantos)"
   ]
  },
  {
   "cell_type": "markdown",
   "id": "26629ee2-bcef-4df4-8dd6-09751e5e6b11",
   "metadata": {},
   "source": [
    "### Descrição\n"
   ]
  },
  {
   "cell_type": "markdown",
   "id": "a8039191-d590-40b9-a88e-5abda325dac2",
   "metadata": {},
   "source": [
    "### Importar dependências"
   ]
  },
  {
   "cell_type": "code",
   "execution_count": null,
   "id": "e47eec96-bd4f-473f-bbfe-5a4e8242e6da",
   "metadata": {},
   "outputs": [],
   "source": [
    "import random\n",
    "import locale\n",
    "import matplotlib.pyplot as plt"
   ]
  },
  {
   "cell_type": "markdown",
   "id": "fc1e6ebe-6d6c-4ebf-8ee8-687a3a02ad53",
   "metadata": {},
   "source": [
    "### Funções"
   ]
  },
  {
   "cell_type": "code",
   "execution_count": null,
   "id": "0bc6d1fb-f3d5-4b94-bfe7-59f57b4fa809",
   "metadata": {},
   "outputs": [],
   "source": [
    "qtd_portas = 3\n",
    "def criar_portas():\n",
    "    portas = [0] * qtd_portas\n",
    "    indice_certo = random.randint(0, qtd_portas - 1)\n",
    "    portas[indice_certo] = 1\n",
    "    return portas\n",
    "\n",
    "def escolher_porta(portas):\n",
    "    return random.randint(0, len(portas) - 1)\n",
    "\n",
    "def ajustar_portas(portas, porta_escolhida, porta_certa):\n",
    "    portas_ajustadas = [None] * len(portas)\n",
    "    \n",
    "    if porta_escolhida == porta_certa:\n",
    "        portas_erradas = [i for i in range(len(portas)) if i != porta_certa]\n",
    "        porta_errada = random.choice(portas_erradas)\n",
    "        portas_ajustadas[porta_certa] = portas[porta_certa]\n",
    "        portas_ajustadas[porta_errada] = portas[porta_errada]\n",
    "    else:\n",
    "        portas_ajustadas[porta_escolhida] = portas[porta_escolhida]\n",
    "        portas_ajustadas[porta_certa] = portas[porta_certa]\n",
    "    \n",
    "    return portas_ajustadas\n",
    "\n",
    "total = 1000000"
   ]
  },
  {
   "cell_type": "markdown",
   "id": "9718626a-0e88-4111-aff0-ee420a64d9bd",
   "metadata": {},
   "source": [
    "### Manter porta escolhida"
   ]
  },
  {
   "cell_type": "code",
   "execution_count": null,
   "id": "e6f83fc9-ce07-4eaa-83a7-4eb29d666876",
   "metadata": {},
   "outputs": [],
   "source": [
    "acerto_manter = 0\n",
    "for x in range(total):\n",
    "    portas = criar_portas()\n",
    "    porta_certa = portas.index(1)\n",
    "    porta_escolhida = escolher_porta(portas)\n",
    "    if porta_certa == porta_escolhida:\n",
    "        acerto_manter += 1"
   ]
  },
  {
   "cell_type": "markdown",
   "id": "79989e4d-f0c0-4d1d-9564-5f1c20b2dbd4",
   "metadata": {},
   "source": [
    "### Trocar porta escolhida"
   ]
  },
  {
   "cell_type": "code",
   "execution_count": null,
   "id": "c1c5ffdb-951b-4666-9fc6-cb2b2401539d",
   "metadata": {},
   "outputs": [],
   "source": [
    "acerto_trocar = 0\n",
    "for x in range(total):\n",
    "    portas = criar_portas()\n",
    "    porta_certa = portas.index(1)\n",
    "    porta_escolhida = escolher_porta(portas)\n",
    "    portas = ajustar_portas(portas, porta_escolhida, porta_certa)\n",
    "    indices_portas = [i for i, x in enumerate(portas) if x is not None]\n",
    "\n",
    "    if porta_escolhida == indices_portas[0]:\n",
    "        nova_escolha = indices_portas[1]\n",
    "    else:\n",
    "        nova_escolha = indices_portas[0]\n",
    "\n",
    "    if nova_escolha == porta_certa:\n",
    "        acerto_trocar += 1"
   ]
  },
  {
   "cell_type": "markdown",
   "id": "5945ee0d-03c5-4259-b8e1-60128d39514e",
   "metadata": {},
   "source": [
    "### Escolher porta final aleatoriamente"
   ]
  },
  {
   "cell_type": "code",
   "execution_count": null,
   "id": "de52b1b3-6db7-412d-a94e-c83c91f5ac97",
   "metadata": {},
   "outputs": [],
   "source": [
    "acerto_aleatorio = 0\n",
    "for x in range(total):\n",
    "    portas = criar_portas()\n",
    "    porta_certa = portas.index(1)\n",
    "    porta_escolhida = escolher_porta(portas)\n",
    "    portas = ajustar_portas(portas, porta_escolhida, porta_certa)\n",
    "    indices_portas = [i for i, x in enumerate(portas) if x is not None]\n",
    "\n",
    "    if indices_portas[escolher_porta(indices_portas)] == porta_certa:\n",
    "        acerto_aleatorio += 1"
   ]
  },
  {
   "cell_type": "code",
   "execution_count": null,
   "id": "371e9628-b057-4a4d-bc93-6df7a6d730d3",
   "metadata": {},
   "outputs": [],
   "source": [
    "resultados = ['Manter Escolha', 'Trocar Escolha', 'Escolha Aleatória']\n",
    "acertos = [acerto_manter, acerto_trocar, acerto_aleatorio]\n",
    "percentuais = [acerto_manter * 100 / total, acerto_trocar * 100 / total, acerto_aleatorio * 100 / total]\n",
    "\n",
    "cores = ['#3498db', '#2ecc71', '#e74c3c']\n",
    "plt.figure(figsize=(15, 6))\n",
    "plt.bar(resultados, percentuais, color=cores)\n",
    "plt.ylabel('Percentual de acertos (%)')\n",
    "plt.title(f'Comparação de Estratégias de Escolha entre {qtd_portas} Portas em {total:,} simulações')\n",
    "plt.ylim(0, 100)\n",
    "\n",
    "for i, v in enumerate(percentuais):\n",
    "    plt.text(i, v + 2, f'{v:.2f}%', ha='center', va='bottom')\n",
    "\n",
    "plt.show()"
   ]
  }
 ],
 "metadata": {
  "kernelspec": {
   "display_name": "Python 3 (ipykernel)",
   "language": "python",
   "name": "python3"
  },
  "language_info": {
   "codemirror_mode": {
    "name": "ipython",
    "version": 3
   },
   "file_extension": ".py",
   "mimetype": "text/x-python",
   "name": "python",
   "nbconvert_exporter": "python",
   "pygments_lexer": "ipython3",
   "version": "3.11.6"
  }
 },
 "nbformat": 4,
 "nbformat_minor": 5
}
